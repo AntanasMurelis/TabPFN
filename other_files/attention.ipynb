{
 "cells": [
  {
   "attachments": {},
   "cell_type": "markdown",
   "metadata": {},
   "source": [
    "# Attention"
   ]
  },
  {
   "cell_type": "code",
   "execution_count": 2,
   "metadata": {},
   "outputs": [],
   "source": [
    "import math\n",
    "from typing import Optional\n",
    "\n",
    "import torch\n",
    "import torch.nn as nn\n",
    "from torch import Tensor\n",
    "from torch.nn import Module, TransformerEncoder"
   ]
  },
  {
   "attachments": {},
   "cell_type": "markdown",
   "metadata": {},
   "source": [
    "## TransformerModel()"
   ]
  },
  {
   "cell_type": "code",
   "execution_count": 1,
   "metadata": {},
   "outputs": [],
   "source": [
    "# passed into train() in train.py\n",
    "emsize=512 #yes, same in the paper\n",
    "nhead=4 #yes, same in the paper\n",
    "nhid=2*emsize # #yes, same in the paper: 1024\n",
    "nlayers=6 # hmm, paper says 12\n",
    "\n",
    "# encoder = \n",
    "n_out = 1 # can be 2 or sth else\n",
    "ninp = emsize\n",
    "nhead = nhead\n",
    "nhid = 2*emsize\n",
    "nlayers = nlayers\n",
    "dropout=0.0\n",
    "style_encoder=None\n",
    "y_encoder=None\n",
    "pos_encoder=None\n",
    "decoder=None\n",
    "input_normalization=False\n",
    "init_method=None\n",
    "pre_norm=False\n",
    "activation='gelu'\n",
    "recompute_attn=False\n",
    "num_global_att_tokens=0\n",
    "full_attention=False\n",
    "all_layers_same_init=False\n",
    "efficient_eval_masking=True\n",
    "\n",
    "num_features = 10 # no default, depends on the dataset"
   ]
  },
  {
   "cell_type": "code",
   "execution_count": null,
   "metadata": {},
   "outputs": [],
   "source": []
  },
  {
   "cell_type": "code",
   "execution_count": null,
   "metadata": {},
   "outputs": [],
   "source": []
  }
 ],
 "metadata": {
  "kernelspec": {
   "display_name": "DL_project",
   "language": "python",
   "name": "python3"
  },
  "language_info": {
   "codemirror_mode": {
    "name": "ipython",
    "version": 3
   },
   "file_extension": ".py",
   "mimetype": "text/x-python",
   "name": "python",
   "nbconvert_exporter": "python",
   "pygments_lexer": "ipython3",
   "version": "3.7.3"
  },
  "orig_nbformat": 4,
  "vscode": {
   "interpreter": {
    "hash": "4e0db07081617c9a6eca3dcd9ae8397d12b2119e3e97abe44125c2c5f990a5fd"
   }
  }
 },
 "nbformat": 4,
 "nbformat_minor": 2
}
