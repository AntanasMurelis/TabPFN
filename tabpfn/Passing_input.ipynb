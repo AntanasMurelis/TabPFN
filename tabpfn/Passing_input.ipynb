{
 "cells": [
  {
   "cell_type": "code",
   "execution_count": 1,
   "metadata": {},
   "outputs": [],
   "source": [
    "from transformer import *\n",
    "from encoders import *\n",
    "import torch"
   ]
  },
  {
   "cell_type": "code",
   "execution_count": 2,
   "metadata": {},
   "outputs": [],
   "source": [
    "transformer = TransformerModel(encoder = StyleEncoder(10, 64), n_out = 10, ninp = 64, nhead = 8, nhid = 2, nlayers = 1, dropout=0.0, \n",
    "                 style_encoder=None, y_encoder=StyleEncoder(1, 64),\n",
    "                 pos_encoder=None, decoder=None, input_normalization=False, init_method=None, pre_norm=False,\n",
    "                 activation='gelu', recompute_attn=False, num_global_att_tokens=0, full_attention=False,\n",
    "                 all_layers_same_init=False, efficient_eval_masking=True)"
   ]
  },
  {
   "cell_type": "code",
   "execution_count": 3,
   "metadata": {},
   "outputs": [
    {
     "name": "stdout",
     "output_type": "stream",
     "text": [
      "This is the size of x_src:torch.Size([100, 64])\n",
      "torch.Size([100, 64])\n",
      "torch.Size([1, 64, 64])\n",
      "tensor([[-0.1439, -0.1728, -0.1551, -0.1377, -0.1803, -0.1813, -0.1526, -0.1274,\n",
      "         -0.0998, -0.1558, -0.1268, -0.1597, -0.1162, -0.1334, -0.1268, -0.1978,\n",
      "         -0.1272, -0.1769, -0.1614, -0.1475, -0.1476, -0.1604, -0.0835, -0.1497,\n",
      "         -0.1933, -0.1272, -0.1496, -0.1114, -0.1024, -0.2283, -0.0861, -0.1573,\n",
      "         -0.1073, -0.1173, -0.1733, -0.1414, -0.1748, -0.1903, -0.1810, -0.1474,\n",
      "         -0.1657, -0.1230, -0.2031, -0.1931, -0.1017, -0.1931, -0.1655, -0.1468,\n",
      "         -0.1350, -0.1746, -0.1652, -0.1822, -0.1269, -0.1524, -0.1513, -0.1382,\n",
      "         -0.1393, -0.1494, -0.1029, -0.1798, -0.1079, -0.1711, -0.1735, -0.1614]],\n",
      "       grad_fn=<SqueezeBackward1>)\n"
     ]
    },
    {
     "data": {
      "text/plain": [
       "torch.Size([1, 10])"
      ]
     },
     "execution_count": 3,
     "metadata": {},
     "output_type": "execute_result"
    }
   ],
   "source": [
    "input = (torch.rand([100, 10]), torch.rand([100, 1]))\n",
    "transformer(input, single_eval_pos = 99).size()"
   ]
  },
  {
   "cell_type": "code",
   "execution_count": 4,
   "metadata": {},
   "outputs": [
    {
     "data": {
      "text/plain": [
       "torch.Size([10, 9, 64])"
      ]
     },
     "execution_count": 4,
     "metadata": {},
     "output_type": "execute_result"
    }
   ],
   "source": [
    "lin = nn.Linear(10, 64)(torch.rand([10, 10, 10]))\n",
    "eval = 9\n",
    "\n",
    "\n",
    "mult = nn.MultiheadAttention(embed_dim=64, num_heads = 8, batch_first=True)\n",
    "mult(lin[:, :eval, :], lin[:, eval:, :], lin[:, eval:, :])[0].size()"
   ]
  },
  {
   "cell_type": "code",
   "execution_count": null,
   "metadata": {},
   "outputs": [],
   "source": []
  }
 ],
 "metadata": {
  "kernelspec": {
   "display_name": "Python 3.8.8 ('base')",
   "language": "python",
   "name": "python3"
  },
  "language_info": {
   "codemirror_mode": {
    "name": "ipython",
    "version": 3
   },
   "file_extension": ".py",
   "mimetype": "text/x-python",
   "name": "python",
   "nbconvert_exporter": "python",
   "pygments_lexer": "ipython3",
   "version": "3.8.8"
  },
  "orig_nbformat": 4,
  "vscode": {
   "interpreter": {
    "hash": "d6d6d9c67bd866f2863d36ba190941b1108b5328bc23ef86323e39400fe2bc0c"
   }
  }
 },
 "nbformat": 4,
 "nbformat_minor": 2
}
